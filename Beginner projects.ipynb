{
 "cells": [
  {
   "cell_type": "markdown",
   "id": "cbba4d77-b6cc-4899-bbba-a7b65769eadc",
   "metadata": {},
   "source": [
    "\"\"\"Greet according to time\"\"\""
   ]
  },
  {
   "cell_type": "code",
   "execution_count": 1,
   "id": "ffee7623-d869-4165-994e-08cee1114cce",
   "metadata": {},
   "outputs": [
    {
     "name": "stdout",
     "output_type": "stream",
     "text": [
      "Good Night!\n"
     ]
    }
   ],
   "source": [
    "import time\n",
    "timestamp=time.strftime('%H:%M:%S')\n",
    "Time=int(time.strftime('%H'))\n",
    "if Time<12:\n",
    "    print(\"Good Morning!\")\n",
    "elif Time<15:\n",
    "    print(\"Good Afternoon!\")\n",
    "elif Time<17:\n",
    "    print(\"Good Evening!\")\n",
    "else:\n",
    "    print(\"Good Night!\")"
   ]
  },
  {
   "cell_type": "markdown",
   "id": "00e2784e-d670-43ab-b925-e359f65dad7b",
   "metadata": {},
   "source": [
    "\"\"\"Rock Paper Scissor Game\"\"\""
   ]
  },
  {
   "cell_type": "code",
   "execution_count": 5,
   "id": "e4590526-a0cb-42a6-9d09-0cf828049427",
   "metadata": {},
   "outputs": [
    {
     "name": "stdin",
     "output_type": "stream",
     "text": [
      "0 for Rock, 1 for Paper, 2 for scissors. 0\n"
     ]
    },
    {
     "name": "stdout",
     "output_type": "stream",
     "text": [
      "You: 0\n",
      "Computer: 2\n",
      "You Won!\n"
     ]
    }
   ],
   "source": [
    "#Rock beats scissors; scissors beats paper ; paper beats rock\n",
    "import random\n",
    "def check(comp,user):\n",
    "    if comp==user:\n",
    "        return 0\n",
    "    if (comp==0 and user==1):\n",
    "        return 1\n",
    "    if (comp==1 and user==2):\n",
    "        return 1\n",
    "    if (comp==2 and user==0):\n",
    "        return 1\n",
    "comp=random.randint(0,2)\n",
    "user=int(input(\"0 for Rock, 1 for Paper, 2 for scissors.\"))\n",
    "score=check(comp,user)\n",
    "print(\"You:\",user)\n",
    "print(\"Computer:\",comp)\n",
    "if score==0:\n",
    "    print(\"It's an draw!\")\n",
    "elif score==1:\n",
    "    print(\"You Won!\")\n",
    "else:\n",
    "    print(\"you lose!\")"
   ]
  },
  {
   "cell_type": "markdown",
   "id": "a3d89409-4007-4f50-94e5-2c8ad1f26438",
   "metadata": {},
   "source": [
    "\"\"\"KBC Game\"\"\""
   ]
  },
  {
   "cell_type": "code",
   "execution_count": null,
   "id": "6a2bc319-f0b1-4d96-9d8d-e1c1f6072387",
   "metadata": {},
   "outputs": [
    {
     "name": "stdout",
     "output_type": "stream",
     "text": [
      "\n",
      "\n",
      "Question for Rs. 1000\n",
      "\n",
      "\n",
      "Which language was used to create fb?\n",
      "a. Python          b. French \n",
      "c. JavaScript          d. Php \n"
     ]
    }
   ],
   "source": [
    "questions = [\n",
    "  [\n",
    "    \"Which language was used to create fb?\", \"Python\", \"French\", \"JavaScript\",\n",
    "    \"Php\", \"None\", 4\n",
    "  ],\n",
    "  [\"What is the capital of India?\" \"New York\", \"London\", \"New Delhi\", \"Mumbai\",2\n",
    "  ],\n",
    "  [\n",
    "   \"Who wrote the famous novel 'Pride and Prejudice'?\" \"Charles Dickens\",\"Jane Austen\",\"Mark Twain\",\"Leo Tolstoy\",1\n",
    "  ],\n",
    "  [\n",
    "    \"In which year did India gain independence?\" \"1947\",\"1950\",\"1942\",\"1952\",0\n",
    "  ],\n",
    "  [\n",
    "    \"Which element's chemical symbol is 'O'?\" \"Oxygen\",\"Ozone\",\"Osmium\",\"Osmosis\",0\n",
    "  ],\n",
    "  [\n",
    "    \"Who was the first President of the United States?\" \"Abraham Lincoln\",\"George Washington\",\"John F. Kennedy\",\"Thomas Jefferson\",1\n",
    "  ],\n",
    "]\n",
    "\n",
    "levels = [1000, 2000, 3000, 5000, 10000, 20000, 40000, 80000, 160000, 320000]\n",
    "money = 0\n",
    "for i in range(0, len(questions)):\n",
    "  \n",
    "  question = questions[i]\n",
    "  print(f\"\\n\\nQuestion for Rs. {levels[i]}\")\n",
    "  print(f\"\\n\\n{question[0]}\")\n",
    "  print(f\"a. {question[1]}          b. {question[2]} \")\n",
    "  print(f\"c. {question[3]}          d. {question[4]} \")\n",
    "  reply = int(input(\"Enter your answer (1-4) or  0 to quit:\\n\" ))\n",
    "  if (reply == 0):\n",
    "    money = levels[i-1]\n",
    "    break\n",
    "  if(reply == question[-1]):\n",
    "    print(f\"Correct answer, you have won Rs. {levels[i]}\")\n",
    "    if(i == 4):\n",
    "      money = 10000\n",
    "    elif(i == 9):\n",
    "      money = 320000\n",
    "    elif(i == 14):\n",
    "      money = 10000000\n",
    "  else:\n",
    "    print(\"Wrong answer!\")\n",
    "    break \n",
    "\n",
    "print(f\"Your take home money is {money}\")"
   ]
  },
  {
   "cell_type": "markdown",
   "id": "5ce75932-372c-4e23-992a-69c1cddd4899",
   "metadata": {},
   "source": [
    "\"\"\"\"\"\""
   ]
  }
 ],
 "metadata": {
  "kernelspec": {
   "display_name": "Python 3 (ipykernel)",
   "language": "python",
   "name": "python3"
  },
  "language_info": {
   "codemirror_mode": {
    "name": "ipython",
    "version": 3
   },
   "file_extension": ".py",
   "mimetype": "text/x-python",
   "name": "python",
   "nbconvert_exporter": "python",
   "pygments_lexer": "ipython3",
   "version": "3.12.8"
  }
 },
 "nbformat": 4,
 "nbformat_minor": 5
}
